{
 "cells": [
  {
   "cell_type": "markdown",
   "id": "advisory-anchor",
   "metadata": {},
   "source": [
    "# Parametric Insurance on the Blockchain"
   ]
  },
  {
   "cell_type": "markdown",
   "id": "color-commercial",
   "metadata": {},
   "source": [
    "## Description of Scenario"
   ]
  },
  {
   "cell_type": "markdown",
   "id": "cleared-mixer",
   "metadata": {},
   "source": [
    "Parametric insurance works by triggering a payment to a client upon the occurence of an event.\n",
    "This notebook contains a simulation of a parametric insurance application which is hosted on the blockchain.\n",
    "The demand for such a system is driven by the ability to automate the process of filing and adjusting claims.\n",
    "This results in lower overhead, which in turn allows insurance firms to reach markets that would otherwise be\n",
    "cost-prohibitive. The adoption of smart contract based parametric insurance would be mutually beneficial to insurers and their clients.\n",
    "\n",
    "_'Today, there are over $1 trillion dollars of uninsured crops around the world. To date, insurance companies have largely been unable to service smaller plots of land in developing countries, forcing farmers into unstable livelihoods dependent on rainfall.'_\n",
    "[Nasdaq: How Blockchain Smart Contracts are Reinventing The Insurance Industry](https://www.nasdaq.com/articles/how-blockchain-smart-contracts-are-reinventing-the-insurance-industry-2021-01-29)\n",
    "\n",
    "\n",
    "In this particular scenario, we will be outlining the process of insuring a small farm.\n",
    "Our parametric criteria will be rainfall. \n",
    "\n",
    "If a farmer receives a below-threshold amount of rain for a determined\n",
    "number of consective days, a payout will be issued to the farmer from the insurance firm."
   ]
  },
  {
   "cell_type": "markdown",
   "id": "serious-catholic",
   "metadata": {},
   "source": [
    "## The Process:"
   ]
  },
  {
   "cell_type": "markdown",
   "id": "private-engine",
   "metadata": {},
   "source": [
    "### The Agreement\n",
    "\n",
    "An insurance firm and a farmer agree upon conditions for insurance. These include;\n",
    "the monthly cost to the farmer, the payout amount a farmer receives in the event of a drought and the minimum amount of rain a farmer needs to receive per month to avoid a drought payout.\n",
    "\n",
    "_For the purposes of our demonstration, we will also be able to manipulate the farmer's required dues payperiod, and how frequently a farmer is able to collect drought payouts._\n",
    "\n",
    "Once the two are in agreement, a client is registered on the insurance firms blockchain contract. The client is given an id number which they will use to pay their dues, and the firm will use to issue payouts."
   ]
  },
  {
   "cell_type": "markdown",
   "id": "senior-halloween",
   "metadata": {},
   "source": [
    "### Drought Monitoring\n",
    "\n",
    "A weather station near the farm measures precipitation. Daily rainfall numbers are sent to an oracle. The oracle emits the rainfall amount. If the rainfall does not meet a minimum threshold over a predetermined period of time, a transaction is logged on the blockchain that reports that the drought is occurring."
   ]
  },
  {
   "cell_type": "markdown",
   "id": "unable-shooting",
   "metadata": {},
   "source": [
    "### Insurance Payouts and Paying Dues\n",
    "\n",
    "When a drought is reported, if enough time has elapsed since the most recent drought payout, a payout is made to the farmer experiencing the drought. However, the farmer must be in good financial standing with the agency. If the farmer defaults on a payment, they are placed into poor standing with the agency.\n",
    "\n",
    "A farmer in poor standing may not receive payouts, and they also may not pay dues. The contract is essentially put on hold until further action is taken:\n",
    "\n",
    "- A client may only reach poor standing by missing a payment, the agency is not able to place them into poor standing.\n",
    "\n",
    "- If a farmer gets behind on payments, they may contact the agency and rectify their balance outside of the blockchain. At this point the agency is able to change a clients standing from poor to good (but not from good to poor). "
   ]
  },
  {
   "cell_type": "markdown",
   "id": "conservative-addition",
   "metadata": {},
   "source": [
    "### Transactions\n",
    "\n",
    "The main contract used in this demonstraction is named Insurance. It is used for tracking Farmer's accounts with the insurance agency. The contract can store multiple clients (farmers). The main purpose of this contract is to collect dues payments from farmers through the function `pay_dues`, and pay farmers in the event of a drought `report_drought`."
   ]
  },
  {
   "cell_type": "markdown",
   "id": "standard-dream",
   "metadata": {},
   "source": [
    "### The Code\n",
    "\n",
    "In order to demonstrate this application, we will be using eth-tester running py-evm as a backend. Py-evm uses a full implementation of the Ethereum spec, allowing us to appropriately mirror our applications behavior if it were to be deployed on the Mainnet."
   ]
  },
  {
   "cell_type": "markdown",
   "id": "fitted-excess",
   "metadata": {},
   "source": [
    "Execute `Run All`, before proceeding."
   ]
  },
  {
   "cell_type": "code",
   "execution_count": 1,
   "id": "mobile-insider",
   "metadata": {},
   "outputs": [],
   "source": [
    "from eth_tester import EthereumTester\n",
    "TESTER = EthereumTester()"
   ]
  },
  {
   "cell_type": "code",
   "execution_count": 2,
   "id": "nonprofit-curve",
   "metadata": {
    "scrolled": true
   },
   "outputs": [
    {
     "name": "stderr",
     "output_type": "stream",
     "text": [
      "/home/austin/miniconda3/envs/kernel/lib/python3.9/site-packages/ipykernel/ipkernel.py:287: DeprecationWarning: `should_run_async` will not call `transform_cell` automatically in the future. Please pass the result to `transformed_cell` argument and any exception that happen during thetransform in `preprocessing_exc_tuple` in IPython 7.17 and above.\n",
      "  and should_run_async(code)\n"
     ]
    }
   ],
   "source": [
    "# import required testing modules\n",
    "from solcx import set_solc_version, compile_files\n",
    "from web3 import Web3\n",
    "\n",
    "from eth_tester import EthereumTester, PyEVMBackend\n",
    "\n",
    "import os"
   ]
  },
  {
   "cell_type": "code",
   "execution_count": 3,
   "id": "silver-nancy",
   "metadata": {
    "scrolled": true
   },
   "outputs": [
    {
     "name": "stderr",
     "output_type": "stream",
     "text": [
      "/home/austin/miniconda3/envs/kernel/lib/python3.9/site-packages/ipykernel/ipkernel.py:287: DeprecationWarning: `should_run_async` will not call `transform_cell` automatically in the future. Please pass the result to `transformed_cell` argument and any exception that happen during thetransform in `preprocessing_exc_tuple` in IPython 7.17 and above.\n",
      "  and should_run_async(code)\n"
     ]
    }
   ],
   "source": [
    "# set the solidity version\n",
    "set_solc_version('v0.7.6')"
   ]
  },
  {
   "cell_type": "code",
   "execution_count": 4,
   "id": "improving-ferry",
   "metadata": {},
   "outputs": [],
   "source": [
    "# create a tester with a PyEVMBackend\n",
    "TESTER = EthereumTester(backend=PyEVMBackend())"
   ]
  },
  {
   "cell_type": "markdown",
   "id": "respiratory-brother",
   "metadata": {},
   "source": [
    "Next we set up accounts for each account user. Our insurance agency will implement our contracts (Insurance.sol, RainOracle.sol), and our farmers will be added to our Insurance concract as clients."
   ]
  },
  {
   "cell_type": "code",
   "execution_count": 5,
   "id": "german-timber",
   "metadata": {},
   "outputs": [
    {
     "data": {
      "text/plain": [
       "('0x7E5F4552091A69125d5DfCb7b8C2659029395Bdf',\n",
       " '0x2B5AD5c4795c026514f8317c7a215E218DcCD6cF',\n",
       " '0x6813Eb9362372EEF6200f3b1dbC3f819671cBA69',\n",
       " '0x1efF47bc3a10a45D4B230B5d10E37751FE6AA718',\n",
       " '0xe1AB8145F7E55DC933d51a18c793F901A3A0b276',\n",
       " '0xE57bFE9F44b819898F47BF37E5AF72a0783e1141',\n",
       " '0xd41c057fd1c78805AAC12B0A94a405c0461A6FBb',\n",
       " '0xF1F6619B38A98d6De0800F1DefC0a6399eB6d30C',\n",
       " '0xF7Edc8FA1eCc32967F827C9043FcAe6ba73afA5c',\n",
       " '0x4CCeBa2d7D2B4fdcE4304d3e09a1fea9fbEb1528')"
      ]
     },
     "execution_count": 5,
     "metadata": {},
     "output_type": "execute_result"
    }
   ],
   "source": [
    "TESTER.get_accounts()"
   ]
  },
  {
   "cell_type": "code",
   "execution_count": 6,
   "id": "italian-outside",
   "metadata": {},
   "outputs": [],
   "source": [
    "insurance_agency = TESTER.get_accounts()[0]\n",
    "farmer_1 = TESTER.get_accounts()[1]\n",
    "farmer_2 = TESTER.get_accounts()[2]\n",
    "farmer_3 = TESTER.get_accounts()[3]"
   ]
  },
  {
   "cell_type": "markdown",
   "id": "medieval-roommate",
   "metadata": {},
   "source": [
    "We compile and deploy our insurance contract.\n",
    "\n",
    "In order to compile and deploy our contracts for testing,\n",
    "we will be using the following helper functions\n",
    "(seen first in the SupplyChain Blockchain demonstration by Nodari Gogoberidze).\n",
    "\n",
    "`get_contract_path`: returns the path the contract given as a parameter\n",
    "\n",
    "`compile_contract`: compiles the contract with the given path, returns the compiled code.\n",
    "\n",
    "`get_w3`: takes a provider and returns a web3 object\n",
    "\n",
    "`deploy_contract`: takes the compiled contract and the w3 as parameters\n",
    "and deploys the contract to the blockchain"
   ]
  },
  {
   "cell_type": "code",
   "execution_count": 7,
   "id": "expressed-serial",
   "metadata": {},
   "outputs": [],
   "source": [
    "def get_contract_path(contract_name):\n",
    "    '''\n",
    "    construct path to contract file\n",
    "    assumes there is a subdirectory in your current working directory named \"contracts\"\n",
    "    \n",
    "    contract_name: the name of the contract (without the .sol suffix)\n",
    "    '''\n",
    "    return os.path.join(os.getcwd(), 'contracts', f'{contract_name}.sol')\n",
    "\n",
    "def compile_contract(contract_name):\n",
    "    '''\n",
    "    compile contract and get the result of compilation\n",
    "    \n",
    "    contract_name: the name of the contract, which should match the filename (without the .sol suffix)\n",
    "    '''\n",
    "    source_file_name = get_contract_path(contract_name)\n",
    "    compiled_sol = compile_files([source_file_name]) # Compiled source code\n",
    "    return compiled_sol[source_file_name + \":\" + contract_name]"
   ]
  },
  {
   "cell_type": "code",
   "execution_count": 8,
   "id": "sharp-watts",
   "metadata": {},
   "outputs": [],
   "source": [
    "def get_w3(provider, account=None):\n",
    "    '''\n",
    "    get a web3 object instance\n",
    "    sets the default account to the one provided or the first test account if not provided\n",
    "    \n",
    "    provider: backend test provider\n",
    "    account:  the account number to set as default, or None if you want to use the first test account\n",
    "    '''\n",
    "    # web3.py instance\n",
    "    w3 = Web3(provider)\n",
    "    \n",
    "    if account:\n",
    "        # set account as default sender of transactions\n",
    "        w3.eth.defaultAccount = account\n",
    "    else:\n",
    "        # set the first test account as default sender of transactions\n",
    "        w3.eth.defaultAccount = w3.eth.accounts[0]\n",
    "    \n",
    "    return w3"
   ]
  },
  {
   "cell_type": "code",
   "execution_count": 9,
   "id": "regulated-utility",
   "metadata": {},
   "outputs": [],
   "source": [
    "def deploy_contract(w3, compiled_contract, *c_args):\n",
    "    '''\n",
    "    deploy the contract\n",
    "    \n",
    "    w3: web3 object instance\n",
    "    compiled_contract: dictionary of compiled contract should have values for the keys: \"abi\" and \"bin\"\n",
    "    *c_args: a variable number of contract arguments to pass to the constructor of the contract\n",
    "    '''\n",
    "    # get the contract interface from the compiled contract\n",
    "    contract_interface = w3.eth.contract(abi=compiled_contract['abi'], bytecode=compiled_contract['bin'])\n",
    "    \n",
    "    # Instantiate the contract by passing in constructor args, and submit the transaction to deploy\n",
    "    tx_hash = contract_interface.constructor(*c_args).transact()\n",
    "    \n",
    "    # Wait for the transaction to be put into a block, and get the transaction receipt\n",
    "    tx_receipt = w3.eth.waitForTransactionReceipt(tx_hash)\n",
    "    \n",
    "    # Get the deployed contract instance from the blockchain with the newly-deployed contract's address\n",
    "    deployed_contract_interface = w3.eth.contract(\n",
    "        address=tx_receipt.contractAddress,\n",
    "        abi=compiled_contract['abi'],\n",
    "        bytecode=compiled_contract['bin']\n",
    "    )\n",
    "    \n",
    "    return tx_receipt, deployed_contract_interface"
   ]
  },
  {
   "cell_type": "markdown",
   "id": "north-function",
   "metadata": {},
   "source": [
    "### Compiling and Deploying our Main Contract (Insurance.sol)"
   ]
  },
  {
   "cell_type": "markdown",
   "id": "lesbian-slope",
   "metadata": {},
   "source": [
    "Our main contract is compiled."
   ]
  },
  {
   "cell_type": "code",
   "execution_count": 10,
   "id": "olive-battle",
   "metadata": {},
   "outputs": [],
   "source": [
    "insurance_compiled = compile_contract(\"Insurance\")"
   ]
  },
  {
   "cell_type": "markdown",
   "id": "paperback-living",
   "metadata": {},
   "source": [
    "We choose a provider, get a W3 object, and deploy our contract. We are using the Ethereum Tester Provider in this demonstration."
   ]
  },
  {
   "cell_type": "code",
   "execution_count": 11,
   "id": "ethical-party",
   "metadata": {},
   "outputs": [],
   "source": [
    "provider = Web3.EthereumTesterProvider(ethereum_tester=TESTER)"
   ]
  },
  {
   "cell_type": "code",
   "execution_count": 12,
   "id": "pressing-canadian",
   "metadata": {},
   "outputs": [],
   "source": [
    "insurance_w3 = get_w3(provider, insurance_agency)"
   ]
  },
  {
   "cell_type": "code",
   "execution_count": 13,
   "id": "married-grammar",
   "metadata": {},
   "outputs": [],
   "source": [
    "insurance_receipt, insurance_contract = deploy_contract(insurance_w3, insurance_compiled)"
   ]
  },
  {
   "cell_type": "markdown",
   "id": "younger-draft",
   "metadata": {},
   "source": [
    "Now that our contract has been compiled, we can view all available functions in the contract."
   ]
  },
  {
   "cell_type": "code",
   "execution_count": 14,
   "id": "abstract-elizabeth",
   "metadata": {},
   "outputs": [
    {
     "data": {
      "text/plain": [
       "[<Function agency_balance()>,\n",
       " <Function client_registry(uint256)>,\n",
       " <Function contract_owner()>,\n",
       " <Function farmer_balance(uint256)>,\n",
       " <Function latest_id()>,\n",
       " <Function pay_dues(uint256)>,\n",
       " <Function pay_farmer(uint256)>,\n",
       " <Function rectify_unpaid_dues(uint256)>,\n",
       " <Function register_client(uint256,uint256,uint256,uint256,uint256,address)>]"
      ]
     },
     "execution_count": 14,
     "metadata": {},
     "output_type": "execute_result"
    }
   ],
   "source": [
    "insurance_contract.all_functions()"
   ]
  },
  {
   "cell_type": "markdown",
   "id": "proved-guide",
   "metadata": {},
   "source": [
    "### Compiling and Deploying our Rain Oracle Contract\n",
    "\n",
    "Our rain oracle contract `RainOracle.sol` will function as a simplified version of data input for our application. In a real world application of this technology an insurance agency would likely want to be processing a variety of weather variables in order to support an insurance claim. \n",
    "\n",
    "We will keep it simple for demonstration purposes. Our weather \"sensor\" will be substituted for manual data input. Our sensor will emit rainful data (rounded to the nearest integer).\n",
    "\n",
    "We will elaborate on the functionality of this oracle later. For now, the contract is compiled, deployed and we display its functions."
   ]
  },
  {
   "cell_type": "code",
   "execution_count": 15,
   "id": "pending-dodge",
   "metadata": {},
   "outputs": [],
   "source": [
    "rain_oracle_compiled = compile_contract(\"RainOracle\")\n",
    "\n",
    "rain_oracle_receipt, rain_oracle_contract = deploy_contract(insurance_w3, rain_oracle_compiled, insurance_agency)"
   ]
  },
  {
   "cell_type": "code",
   "execution_count": 16,
   "id": "moral-premiere",
   "metadata": {},
   "outputs": [
    {
     "data": {
      "text/plain": [
       "[<Function owner()>, <Function updateRainfall(uint256,uint256)>]"
      ]
     },
     "execution_count": 16,
     "metadata": {},
     "output_type": "execute_result"
    }
   ],
   "source": [
    "rain_oracle_contract.all_functions()"
   ]
  },
  {
   "cell_type": "markdown",
   "id": "stuffed-curtis",
   "metadata": {},
   "source": [
    "We will be using three more helper functions (from Nodari's SupplyChain Notebook)\n",
    "\n",
    "`exec_call`: Issues a call on a function locally, but no transaction is made on the blockchain.\n",
    "\n",
    "`exec_transact_receipt`: Issues a transaction on the blockchain with the given function. Returns the value returned by the function, and the transaction receipt.\n",
    "\n",
    "`exec_transact`: Issues a transaction on the blockchain, only returns the value returned by the function."
   ]
  },
  {
   "cell_type": "code",
   "execution_count": 17,
   "id": "color-mistress",
   "metadata": {},
   "outputs": [],
   "source": [
    "def exec_call(contract_interface, function_name, *f_args, transaction={}):\n",
    "    '''\n",
    "    execute a call, which does not execute a transaction (i.e. no write)\n",
    "    \n",
    "    contract_interface: web3 object initialized with compiled contract and its address\n",
    "    function_name: name of the function in the smart contract to be invoked\n",
    "    f_args: variable number of arguments to pass in to the function in the smart contract\n",
    "    transaction: dictionary containing transaction fields\n",
    "    '''\n",
    "    func_inst = contract_interface.get_function_by_name(function_name)\n",
    "\n",
    "    return_value = func_inst(*f_args).call(transaction)\n",
    "    return return_value\n",
    "\n",
    "def exec_transact_receipt(contract_interface, function_name, *f_args, transaction={}):\n",
    "    '''\n",
    "    execute a transaction (i.e. a write), and return the transaction receipt\n",
    "    \n",
    "    contract_interface: web3 object initialized with compiled contract and its address\n",
    "    function_name: name of the function in the smart contract to be invoked\n",
    "    f_args: variable number of arguments to pass in to the function in the smart contract\n",
    "    transaction: dictionary containing transaction fields\n",
    "    '''\n",
    "    func_inst = contract_interface.get_function_by_name(function_name)\n",
    "    \n",
    "    # get the return value first, without executing transaction\n",
    "    return_value = exec_call(contract_interface, function_name, *f_args, transaction=transaction)\n",
    "    \n",
    "    # execute the transaction\n",
    "    tx_hash = func_inst(*f_args).transact(transaction)\n",
    "    # receipt does not contain values returned by function\n",
    "    tx_receipt = contract_interface.web3.eth.waitForTransactionReceipt(tx_hash)\n",
    "    \n",
    "    return return_value, tx_receipt\n",
    "\n",
    "def exec_transact(contract_interface, function_name, *f_args, transaction={}):\n",
    "    '''\n",
    "    execute transaction, but ignore the transaction receipt\n",
    "    \n",
    "    contract_interface: web3 object initialized with compiled contract and its address\n",
    "    function_name: name of the function in the smart contract to be invoked\n",
    "    f_args: variable number of arguments to pass in to the function in the smart contract\n",
    "    transaction: dictionary containing transaction fields\n",
    "    '''\n",
    "    rv, _ = exec_transact_receipt(contract_interface, function_name, *f_args, transaction=transaction)\n",
    "    return rv"
   ]
  },
  {
   "cell_type": "markdown",
   "id": "chief-vector",
   "metadata": {},
   "source": [
    "##### Demonstration: Phase One\n",
    "\n",
    "In the first phase of this demonstration we will show the process from adding a new farmer, to making a successful payment to the farmer. In the second phase we will look at scenarios where a farmer does not receive a payout.\n",
    "\n",
    "The contract_owner (the Insurance Agency) is the only party allowed to register new clients. A new client registration takes 6 parameters: \n",
    "\n",
    "    - the farmer's monthly cost for the contract (in ether),\n",
    "    - the payout a farmer receives in the event of a drought (in ether),\n",
    "    - the minimum number of inches of rain the farmer needs to avoid an insurance payout,\n",
    "    - the maximum amount of time allowed (in seconds) in between farmer's dues payments,\n",
    "    - the minimum amount of time (in seconds) in between payouts made to the farmer,\n",
    "    - the farmer's contract address."
   ]
  },
  {
   "cell_type": "code",
   "execution_count": 18,
   "id": "former-uniform",
   "metadata": {},
   "outputs": [],
   "source": [
    "from eth_utils import to_wei, from_wei"
   ]
  },
  {
   "cell_type": "code",
   "execution_count": 19,
   "id": "magnetic-albany",
   "metadata": {},
   "outputs": [],
   "source": [
    "# register new farmer\n",
    "farmer_1_id = exec_transact(insurance_contract, \"register_client\", 1, 2, 5, 262800, 262800, farmer_1)"
   ]
  },
  {
   "cell_type": "code",
   "execution_count": 20,
   "id": "seven-vegetable",
   "metadata": {},
   "outputs": [
    {
     "data": {
      "text/plain": [
       "[0,\n",
       " 1000000000000000000,\n",
       " 2000000000000000000,\n",
       " 5,\n",
       " 262800,\n",
       " 262800,\n",
       " True,\n",
       " 0,\n",
       " 0,\n",
       " '0x7E5F4552091A69125d5DfCb7b8C2659029395Bdf',\n",
       " '0x2B5AD5c4795c026514f8317c7a215E218DcCD6cF']"
      ]
     },
     "execution_count": 20,
     "metadata": {},
     "output_type": "execute_result"
    }
   ],
   "source": [
    "# display client object for farmer 1\n",
    "exec_call(insurance_contract, \"client_registry\", farmer_1_id)"
   ]
  },
  {
   "cell_type": "markdown",
   "id": "external-harris",
   "metadata": {},
   "source": [
    "- farmer id\n",
    "- monthly cost to farmer (in wei)\n",
    "- payout amount to pay to farmer in event of drought (in wei)\n",
    "- minimum amount of rain in inches required to avoid payout\n",
    "- maximum time allowed between farmer's dues payments (seconds)\n",
    "- minimum amount of time allowed between payouts to farmer (seconds)\n",
    "- payment in good standing\n",
    "- set last_paid_dues to 0, no dues paid yet\n",
    "- set last_payout to 0, no payout yet\n",
    "- agency address\n",
    "- farmer address"
   ]
  },
  {
   "cell_type": "markdown",
   "id": "attached-drawing",
   "metadata": {},
   "source": [
    "Now that we've added our new farmer to our contract, we will explain how we will process data from our Rain Oracle.\n",
    "\n",
    "This data transmitted by our oracle will be processed to determine if a farmer is experiencing a drought. A dictionary track each farmer's rainfall-data. \n",
    "\n",
    "The dictionary will tally up rainfall for the month. If the rainfall is below the threshold, a drought will be triggered, and a payment will be made to the farmer.\n",
    "\n",
    "We will start by creating this helper function `minumum_rainfall` which will give us our minimum rainfall for a given farmer based on their id."
   ]
  },
  {
   "cell_type": "code",
   "execution_count": 21,
   "id": "ecological-scientist",
   "metadata": {},
   "outputs": [],
   "source": [
    "def minimum_rainfall(contract, farmer_id):\n",
    "    farmer_details = exec_call(contract, \"client_registry\", farmer_id)\n",
    "    min_inches = farmer_details[3]\n",
    "    return min_inches"
   ]
  },
  {
   "cell_type": "code",
   "execution_count": 22,
   "id": "medieval-blend",
   "metadata": {},
   "outputs": [
    {
     "name": "stdout",
     "output_type": "stream",
     "text": [
      "Farmer 0 will receive a payout if they receive less than 5 inches of rainfall in a month.\n"
     ]
    }
   ],
   "source": [
    "(min_rain) = minimum_rainfall(insurance_contract, farmer_1_id)\n",
    "\n",
    "print(\"Farmer %d will receive a payout if they receive less than %d inches of rainfall in a month.\" % (farmer_1_id, min_rain))"
   ]
  },
  {
   "cell_type": "markdown",
   "id": "latest-burning",
   "metadata": {},
   "source": [
    "Our sensor 'detects' rainfall, and when it does it calls the `updateRainfall` function, with the amount of rainfall in inches, and the id of the farmer that is affected as parameters. We save transaction receipts from these events below."
   ]
  },
  {
   "cell_type": "code",
   "execution_count": 23,
   "id": "confidential-butterfly",
   "metadata": {},
   "outputs": [],
   "source": [
    "_, rain_receipt_1 = exec_transact_receipt(rain_oracle_contract, \"updateRainfall\", 1, farmer_1_id)\n",
    "_, rain_receipt_2 = exec_transact_receipt(rain_oracle_contract, \"updateRainfall\", 1, farmer_1_id)\n",
    "_, rain_receipt_3 = exec_transact_receipt(rain_oracle_contract, \"updateRainfall\", 2, farmer_1_id)\n",
    "_, rain_receipt_4 = exec_transact_receipt(rain_oracle_contract, \"updateRainfall\", 4, farmer_1_id)"
   ]
  },
  {
   "cell_type": "markdown",
   "id": "plastic-seafood",
   "metadata": {},
   "source": [
    "Our transaction receipt holds a reference to the `RainfallUpdate` event. We write a function below `get_rain_event` to pull the attributes from the event (rainfall and farm_id), passing the rain receipt as a parameter."
   ]
  },
  {
   "cell_type": "code",
   "execution_count": 24,
   "id": "transparent-insert",
   "metadata": {},
   "outputs": [],
   "source": [
    "def get_rain_event(rain_receipt):\n",
    "     return rain_oracle_contract.events.RainfallUpdate().processReceipt(rain_receipt)[0]['args']"
   ]
  },
  {
   "cell_type": "code",
   "execution_count": 25,
   "id": "demanding-period",
   "metadata": {},
   "outputs": [
    {
     "data": {
      "text/plain": [
       "AttributeDict({'rainfall': 1, 'farmer_id': 0})"
      ]
     },
     "execution_count": 25,
     "metadata": {},
     "output_type": "execute_result"
    }
   ],
   "source": [
    "rain_event_1 = get_rain_event(rain_receipt_1)\n",
    "rain_event_1"
   ]
  },
  {
   "cell_type": "code",
   "execution_count": 26,
   "id": "charged-freedom",
   "metadata": {},
   "outputs": [
    {
     "data": {
      "text/plain": [
       "AttributeDict({'rainfall': 1, 'farmer_id': 0})"
      ]
     },
     "execution_count": 26,
     "metadata": {},
     "output_type": "execute_result"
    }
   ],
   "source": [
    "rain_event_2 = get_rain_event(rain_receipt_2)\n",
    "rain_event_2"
   ]
  },
  {
   "cell_type": "code",
   "execution_count": 27,
   "id": "returning-failure",
   "metadata": {},
   "outputs": [
    {
     "data": {
      "text/plain": [
       "AttributeDict({'rainfall': 2, 'farmer_id': 0})"
      ]
     },
     "execution_count": 27,
     "metadata": {},
     "output_type": "execute_result"
    }
   ],
   "source": [
    "rain_event_3 = get_rain_event(rain_receipt_3)\n",
    "rain_event_3"
   ]
  },
  {
   "cell_type": "code",
   "execution_count": 28,
   "id": "infectious-variety",
   "metadata": {},
   "outputs": [
    {
     "data": {
      "text/plain": [
       "AttributeDict({'rainfall': 4, 'farmer_id': 0})"
      ]
     },
     "execution_count": 28,
     "metadata": {},
     "output_type": "execute_result"
    }
   ],
   "source": [
    "rain_event_4 = get_rain_event(rain_receipt_4)\n",
    "rain_event_4"
   ]
  },
  {
   "cell_type": "markdown",
   "id": "balanced-majority",
   "metadata": {},
   "source": [
    "We define the function, `log_rainfall_event`, which takes in a dictionary. This dictionary has a datetime stamp in the `[farmer_id][0]` place. The `[farmer_id][1]` place is an array of rainfall data.\n",
    "\n",
    "For each rainfall logged, the current time is compared to the datetime stamp in the dictionary. If 30 days have elapsed (a pay-period), the dictionary entry for the farmer is cleared.\n",
    "\n",
    "If 30 days have not elapsed since the first rain log, the rainfall amount is added to the array of rainfall data for the farmer.\n",
    "\n",
    "All rainfall amounts for the farmer in the past pay-period are tallied, if the sum is under the drought threshold, the function returns False. If the sum is over, it returns True.\n"
   ]
  },
  {
   "cell_type": "code",
   "execution_count": 29,
   "id": "narrow-discount",
   "metadata": {},
   "outputs": [],
   "source": [
    "import datetime\n",
    "import time"
   ]
  },
  {
   "cell_type": "code",
   "execution_count": 30,
   "id": "greek-castle",
   "metadata": {},
   "outputs": [],
   "source": [
    "def log_rainfall_event(contract, rain_events, event):\n",
    "    rain_total = 0\n",
    "    under_threshold = False\n",
    "    \n",
    "    # get the id of the farmer experiencing the rainfall\n",
    "    farmer_id = event['farmer_id']\n",
    "    # get the rainfall reported in the event\n",
    "    new_rainfall = event['rainfall']\n",
    "\n",
    "    # get the farmer's minimum rainfall to avoid a drought\n",
    "    farmer_min_rain = minimum_rainfall(contract, farmer_id)\n",
    "    \n",
    "    # determine if the new rainfall is over the threshold\n",
    "    over_threshold = (new_rainfall > farmer_min_rain)\n",
    "    \n",
    "    # if the farmer is already contained in the dictionary\n",
    "    if farmer_id in rain_events:\n",
    "        if (datetime.datetime.now() - rain_events[farmer_id][0]).seconds > 259200:\n",
    "#           if the rain event occurred more than a month after\n",
    "#           the first rain in the dictionary, make the current rain event\n",
    "#           the new first event for this farmer, and wipe rainfall data for the prior month\n",
    "            rain_events[farmer_id] = [datetime.datetime.now(), [0, new_rainfall]]\n",
    "        else:\n",
    "#           if the rain event ocurred within a month of the\n",
    "#           first rain in the dictionary, add the rain event to the dictionary\n",
    "            rain_events[farmer_id][1].append(new_rainfall)\n",
    "#           check if the total rainfall for this farmer is over the drought threshold\n",
    "#           if so, set over_threshold to True\n",
    "            for number in rain_events[farmer_id][1]:\n",
    "                rain_total += number\n",
    "            if rain_total > farmer_min_rain:\n",
    "                over_threshold = True\n",
    "    else:\n",
    "        # if the farmer is not contained in the dictionary, add the farmer\n",
    "        rain_events[farmer_id] = [datetime.datetime.now(), [0, new_rainfall]]\n",
    "            \n",
    "        \n",
    "    return over_threshold"
   ]
  },
  {
   "cell_type": "code",
   "execution_count": 31,
   "id": "direct-brunswick",
   "metadata": {},
   "outputs": [],
   "source": [
    "from pprint import pprint"
   ]
  },
  {
   "cell_type": "code",
   "execution_count": 32,
   "id": "proof-familiar",
   "metadata": {},
   "outputs": [],
   "source": [
    "# initialize dictionary for logging raindall events\n",
    "rain_events = dict()"
   ]
  },
  {
   "cell_type": "code",
   "execution_count": 33,
   "id": "engaging-secretary",
   "metadata": {},
   "outputs": [],
   "source": [
    "# print the drought threshold for a given farmer\n",
    "def drought_threshold(farmer_id):\n",
    "    print(\"%s inches maximum for payment\" % exec_call(insurance_contract, \"client_registry\", farmer_id)[3])"
   ]
  },
  {
   "cell_type": "code",
   "execution_count": 34,
   "id": "descending-berlin",
   "metadata": {},
   "outputs": [],
   "source": [
    "# print the cumulative rain inches logged in a given period\n",
    "def total_rainfall(farmer_id):\n",
    "    cumulative = 0\n",
    "    for i in rain_events[farmer_id][1]:\n",
    "        cumulative += i\n",
    "    print(\"%s inches total rainfall\" % cumulative)"
   ]
  },
  {
   "cell_type": "code",
   "execution_count": 35,
   "id": "advisory-distance",
   "metadata": {},
   "outputs": [],
   "source": [
    "# checks if rainfall is under the drought threshold, if so pay_farmer function is executed.\n",
    "def pay_farmer(over_threshold, farmer_id, value):\n",
    "    if not over_threshold:\n",
    "        exec_transact(insurance_contract, \"pay_farmer\", farmer_id, transaction={'value' : value})\n",
    "        print(\"payment made to farmer %s\" %farmer_id)\n",
    "    else:\n",
    "        print(\"Rainfall over drought threshold.\")"
   ]
  },
  {
   "cell_type": "code",
   "execution_count": 36,
   "id": "urban-portugal",
   "metadata": {},
   "outputs": [],
   "source": [
    "# calls contract which pays farmer's dues\n",
    "def pay_dues(farmer_id, farmer, value):\n",
    "    exec_transact(insurance_contract, \"pay_dues\", farmer_id, transaction={'from' : farmer, 'value' : value})"
   ]
  },
  {
   "cell_type": "code",
   "execution_count": 37,
   "id": "brazilian-round",
   "metadata": {},
   "outputs": [],
   "source": [
    "# print farmer and agency account balances\n",
    "def balances(farmer_id):\n",
    "    print(\"farmer balance: %s\" % from_wei(exec_transact(insurance_contract, \"farmer_balance\", farmer_id),'ether'))\n",
    "    print(\"agency balance: %s\" % from_wei(exec_transact(insurance_contract, \"agency_balance\"),'ether'))"
   ]
  },
  {
   "cell_type": "markdown",
   "id": "attended-collar",
   "metadata": {},
   "source": [
    "### Drought\n",
    "\n",
    "Below we show the functionality of our contract in the event that a farmer is experiencing a drought. Rain events 1-3 total to 4 inches of rain. Our 4th rain event puts us over the threshold for a drought payment, so for this demonstraction we will only log events 1-3.\n",
    "\n",
    "We can imagine that these events occur over a 4 week period. The regularly attempts to issue a payment at the end of the month. Because the farmer's threshold of 5 inches of rain has not been reached, the contract will issue a payment to the farmer. "
   ]
  },
  {
   "cell_type": "code",
   "execution_count": 38,
   "id": "decreased-wrist",
   "metadata": {
    "scrolled": true
   },
   "outputs": [
    {
     "name": "stdout",
     "output_type": "stream",
     "text": [
      "5 inches maximum for payment\n",
      "4 inches total rainfall\n"
     ]
    }
   ],
   "source": [
    "threshold_1 = log_rainfall_event(insurance_contract, rain_events, rain_event_1)\n",
    "threshold_2 = log_rainfall_event(insurance_contract, rain_events, rain_event_2)\n",
    "threshold_3 = log_rainfall_event(insurance_contract, rain_events, rain_event_3)\n",
    "\n",
    "drought_threshold(farmer_1_id)\n",
    "total_rainfall(farmer_1_id)"
   ]
  },
  {
   "cell_type": "code",
   "execution_count": 39,
   "id": "anticipated-quilt",
   "metadata": {},
   "outputs": [
    {
     "name": "stdout",
     "output_type": "stream",
     "text": [
      "farmer balance: 1000000\n",
      "agency balance: 999999.999999999997992287\n"
     ]
    }
   ],
   "source": [
    "balances(farmer_1_id)"
   ]
  },
  {
   "cell_type": "code",
   "execution_count": 40,
   "id": "obvious-drama",
   "metadata": {},
   "outputs": [
    {
     "name": "stdout",
     "output_type": "stream",
     "text": [
      "payment made to farmer 0\n"
     ]
    }
   ],
   "source": [
    "pay_farmer(threshold_3, farmer_1_id, to_wei(2, 'ether'))"
   ]
  },
  {
   "cell_type": "code",
   "execution_count": 41,
   "id": "adjacent-stockholm",
   "metadata": {},
   "outputs": [
    {
     "name": "stdout",
     "output_type": "stream",
     "text": [
      "farmer balance: 1000002\n",
      "agency balance: 999997.999999999997894801\n"
     ]
    }
   ],
   "source": [
    "balances(farmer_1_id)"
   ]
  },
  {
   "cell_type": "markdown",
   "id": "mathematical-nerve",
   "metadata": {},
   "source": [
    "## Demonstration: Phase Two\n",
    "\n",
    "In this second phase we will look at scenarios where a farmer does not receive a payout. This would be one of two scenarios. Either A) B) A drought is triggered but the farmer has already been paid this payperiod (1 month). B) No drought is not trigged, or C) A farmer has not paid their dues."
   ]
  },
  {
   "cell_type": "markdown",
   "id": "actual-moderator",
   "metadata": {},
   "source": [
    "### Scenario A : Double Payment\n",
    "\n",
    "A farmer may only receive a payout once every thirty days. If a drought is triggered again within this payperiod, the farmer will not be paid."
   ]
  },
  {
   "cell_type": "code",
   "execution_count": 42,
   "id": "meaningful-functionality",
   "metadata": {},
   "outputs": [
    {
     "name": "stdout",
     "output_type": "stream",
     "text": [
      "Last payout was too recent, try again next pay-period.\n"
     ]
    }
   ],
   "source": [
    "try:\n",
    "    pay_farmer(threshold_3, farmer_1_id, to_wei(2, 'ether'))\n",
    "except:\n",
    "    print(\"Last payout was too recent, try again next pay-period.\")"
   ]
  },
  {
   "cell_type": "markdown",
   "id": "mexican-alarm",
   "metadata": {},
   "source": [
    "### Scenario B : No Drought\n",
    "\n",
    "We build on our previous sensor data. We now log rainfall event 4 in addition to 1-3. We will now pretend that we are in a new month. All four of these rain events have occured in this new month. Because our cumulative rainfall is now at 8 inches for this month, we are over our 5 inch threshold, and our drought payment is not completed."
   ]
  },
  {
   "cell_type": "code",
   "execution_count": 43,
   "id": "alive-hawaii",
   "metadata": {
    "scrolled": true
   },
   "outputs": [
    {
     "name": "stdout",
     "output_type": "stream",
     "text": [
      "5 inches maximum for payment\n",
      "8 inches total rainfall\n"
     ]
    }
   ],
   "source": [
    "threshold_4 = log_rainfall_event(insurance_contract, rain_events, rain_event_4)\n",
    "\n",
    "drought_threshold(farmer_1_id)\n",
    "total_rainfall(farmer_1_id)"
   ]
  },
  {
   "cell_type": "code",
   "execution_count": 44,
   "id": "certified-tongue",
   "metadata": {
    "scrolled": true
   },
   "outputs": [
    {
     "name": "stdout",
     "output_type": "stream",
     "text": [
      "Rainfall over drought threshold.\n"
     ]
    }
   ],
   "source": [
    "pay_farmer(threshold_4, farmer_1_id, to_wei(2, 'ether'))"
   ]
  },
  {
   "cell_type": "markdown",
   "id": "cutting-enzyme",
   "metadata": {},
   "source": [
    "### Scenario C : Dues Unpaid\n",
    "\n",
    "In the event that a farmer has not paid their dues for the payperiod, the farmer will be unable to make or receive payments.\n",
    "\n",
    "For this scenario we will initialize a new client. Farmer 2 will have a very short payperiod. Meaning, if they go several seconds without paying their dues, they will default on their payments (be placed in bad standing with the agency). We will make an initial dues payment (required to start keeping track of dues payment timestamps), and then we will attempt to issue a drought to the farmer. At this point, the farmer will have missed a dues payment, and therefore they will be unable to receive an insurance payment."
   ]
  },
  {
   "cell_type": "code",
   "execution_count": 45,
   "id": "continued-tourist",
   "metadata": {},
   "outputs": [],
   "source": [
    "farmer_2_id = exec_transact(insurance_contract, \"register_client\", 1, 2, 5, 2, 200000, farmer_2)"
   ]
  },
  {
   "cell_type": "code",
   "execution_count": 46,
   "id": "municipal-watershed",
   "metadata": {},
   "outputs": [],
   "source": [
    "_, rain_receipt_5 = exec_transact_receipt(rain_oracle_contract, \"updateRainfall\", 3, farmer_2_id)"
   ]
  },
  {
   "cell_type": "code",
   "execution_count": 47,
   "id": "loaded-forth",
   "metadata": {},
   "outputs": [
    {
     "data": {
      "text/plain": [
       "AttributeDict({'rainfall': 3, 'farmer_id': 1})"
      ]
     },
     "execution_count": 47,
     "metadata": {},
     "output_type": "execute_result"
    }
   ],
   "source": [
    "rain_event_5 = get_rain_event(rain_receipt_5)\n",
    "rain_event_5"
   ]
  },
  {
   "cell_type": "code",
   "execution_count": 48,
   "id": "optional-dancing",
   "metadata": {},
   "outputs": [
    {
     "name": "stdout",
     "output_type": "stream",
     "text": [
      "5 inches maximum for payment\n",
      "3 inches total rainfall\n"
     ]
    }
   ],
   "source": [
    "# log rainfall event, print drought threshold and total rainfall this period\n",
    "threshold_5 = log_rainfall_event(insurance_contract, rain_events, rain_event_5)\n",
    "\n",
    "drought_threshold(farmer_2_id)\n",
    "total_rainfall(farmer_2_id)"
   ]
  },
  {
   "cell_type": "code",
   "execution_count": 49,
   "id": "charged-benjamin",
   "metadata": {},
   "outputs": [
    {
     "name": "stdout",
     "output_type": "stream",
     "text": [
      "farmer balance: 1000000\n",
      "agency balance: 999997.999999999997614607\n"
     ]
    }
   ],
   "source": [
    "balances(farmer_2_id)"
   ]
  },
  {
   "cell_type": "code",
   "execution_count": 50,
   "id": "iraqi-appreciation",
   "metadata": {},
   "outputs": [],
   "source": [
    "# pay dues to initialize payment cycle timer (set client.last_paid_dues = current blocktime)\n",
    "pay_dues(farmer_2_id, farmer_2, to_wei(1, 'ether'))"
   ]
  },
  {
   "cell_type": "code",
   "execution_count": 51,
   "id": "tribal-packaging",
   "metadata": {},
   "outputs": [
    {
     "name": "stdout",
     "output_type": "stream",
     "text": [
      "farmer balance: 999998.999999999999947372\n",
      "agency balance: 999998.999999999997570025\n"
     ]
    }
   ],
   "source": [
    "balances(farmer_2_id)"
   ]
  },
  {
   "cell_type": "code",
   "execution_count": 52,
   "id": "consistent-affiliate",
   "metadata": {},
   "outputs": [
    {
     "name": "stdout",
     "output_type": "stream",
     "text": [
      "Too much time has elapsed since last dues paid, contact agency to rectify balance owed.\n"
     ]
    }
   ],
   "source": [
    "# trigger payout for farmer_2, dues payment period should have elapsed at this point\n",
    "try:\n",
    "    pay_farmer(threshold_5, farmer_2_id, to_wei(2, 'ether'))\n",
    "except:\n",
    "    print(\"Too much time has elapsed since last dues paid, contact agency to rectify balance owed.\")"
   ]
  },
  {
   "cell_type": "markdown",
   "id": "naughty-villa",
   "metadata": {},
   "source": [
    "### Continued : Dues Unpaid\n",
    "\n",
    "In the event that a farmer finds themselves in poor financial standing with the insurance agency (has missed a payment), there is a function for rectifying this situation.\n",
    "\n",
    "A farmer in poor standing will be unable to receive insurance payouts.\n",
    "\n",
    "If the agency is able to rectify the charges owed to them (recieve payment outside of the blockchain). The function rectify_unpaid_dues allows the Insurance Agency to place the farmer in question back into good standing, thus re-establishing their ability to receive payouts during a drought."
   ]
  },
  {
   "cell_type": "code",
   "execution_count": 53,
   "id": "white-michael",
   "metadata": {},
   "outputs": [
    {
     "data": {
      "text/plain": [
       "'unpaid dues rectified'"
      ]
     },
     "execution_count": 53,
     "metadata": {},
     "output_type": "execute_result"
    }
   ],
   "source": [
    "exec_transact(insurance_contract, \"rectify_unpaid_dues\", farmer_2_id, transaction={'from' : insurance_agency})"
   ]
  },
  {
   "cell_type": "code",
   "execution_count": 54,
   "id": "thirty-balance",
   "metadata": {},
   "outputs": [
    {
     "name": "stdout",
     "output_type": "stream",
     "text": [
      "farmer balance: 999998.999999999999947372\n",
      "agency balance: 999998.999999999997511402\n"
     ]
    }
   ],
   "source": [
    "balances(farmer_2_id)"
   ]
  },
  {
   "cell_type": "markdown",
   "id": "amended-motorcycle",
   "metadata": {},
   "source": [
    "The following code must run sequentially. We do not check our balance after paying dues because we have set the payperiod for this farmer to be extremely short. If we check the farmer's balance after paying dues, blocktime will advance and our farmer will once again be placed into poor standing, and will be unable to recieve a payout."
   ]
  },
  {
   "cell_type": "code",
   "execution_count": 55,
   "id": "crude-piano",
   "metadata": {},
   "outputs": [],
   "source": [
    "pay_dues(farmer_2_id, farmer_2, to_wei(1, 'ether'))"
   ]
  },
  {
   "cell_type": "code",
   "execution_count": 56,
   "id": "anticipated-utilization",
   "metadata": {},
   "outputs": [
    {
     "name": "stdout",
     "output_type": "stream",
     "text": [
      "payment made to farmer 1\n"
     ]
    }
   ],
   "source": [
    "try:\n",
    "    pay_farmer(threshold_5, farmer_2_id, to_wei(2, 'ether'))\n",
    "except:\n",
    "    print(\"Too much time has elapsed since last dues paid, contact agency to rectify balance owed.\")"
   ]
  },
  {
   "cell_type": "code",
   "execution_count": 57,
   "id": "varying-swedish",
   "metadata": {},
   "outputs": [
    {
     "name": "stdout",
     "output_type": "stream",
     "text": [
      "farmer balance: 999999.999999999999894744\n",
      "agency balance: 999997.999999999997414027\n"
     ]
    }
   ],
   "source": [
    "balances(farmer_2_id)"
   ]
  }
 ],
 "metadata": {
  "kernelspec": {
   "display_name": "Python (block_env)",
   "language": "python",
   "name": "block_env"
  },
  "language_info": {
   "codemirror_mode": {
    "name": "ipython",
    "version": 3
   },
   "file_extension": ".py",
   "mimetype": "text/x-python",
   "name": "python",
   "nbconvert_exporter": "python",
   "pygments_lexer": "ipython3",
   "version": "3.9.1"
  }
 },
 "nbformat": 4,
 "nbformat_minor": 5
}
